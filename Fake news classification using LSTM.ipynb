{
 "cells": [
  {
   "cell_type": "markdown",
   "id": "abaf8c76-8fd4-4e58-8855-e428d0729058",
   "metadata": {},
   "source": [
    "# End-to-end project on LSTM :\n",
    "## ===========        Fake news classification  ===========\n",
    "* We have downloaded the dataset from kaggle.\n",
    "* Dataset consists of 2 different csv files.Each having 10000  rows.\n",
    "* Each file having 4 columns i.e 'Title' , \"Subject\" , \" text\" and  \"Date\"."
   ]
  },
  {
   "cell_type": "code",
   "execution_count": 10,
   "id": "ad64c96d-415c-41ca-a8ba-4cbe7bc32600",
   "metadata": {},
   "outputs": [],
   "source": [
    "# import pandas and numpy libraries\n",
    "import pandas as pd\n",
    "import numpy as np\n",
    "import warnings\n"
   ]
  },
  {
   "cell_type": "code",
   "execution_count": 11,
   "id": "85a40b9a-73e2-47d7-ad40-5b5d6c612d87",
   "metadata": {},
   "outputs": [],
   "source": [
    "# Data Ingestion\n",
    "df1 = pd.read_csv('real news.xls')\n",
    "df2 = pd.read_csv(\"fake news.xls\")"
   ]
  },
  {
   "cell_type": "code",
   "execution_count": 12,
   "id": "04184c9e-81d2-4b5b-8fba-5e720a8e6a06",
   "metadata": {},
   "outputs": [
    {
     "data": {
      "text/html": [
       "<div>\n",
       "<style scoped>\n",
       "    .dataframe tbody tr th:only-of-type {\n",
       "        vertical-align: middle;\n",
       "    }\n",
       "\n",
       "    .dataframe tbody tr th {\n",
       "        vertical-align: top;\n",
       "    }\n",
       "\n",
       "    .dataframe thead th {\n",
       "        text-align: right;\n",
       "    }\n",
       "</style>\n",
       "<table border=\"1\" class=\"dataframe\">\n",
       "  <thead>\n",
       "    <tr style=\"text-align: right;\">\n",
       "      <th></th>\n",
       "      <th>title</th>\n",
       "      <th>text</th>\n",
       "      <th>subject</th>\n",
       "      <th>date</th>\n",
       "    </tr>\n",
       "  </thead>\n",
       "  <tbody>\n",
       "    <tr>\n",
       "      <th>0</th>\n",
       "      <td>As U.S. budget fight looms, Republicans flip t...</td>\n",
       "      <td>WASHINGTON (Reuters) - The head of a conservat...</td>\n",
       "      <td>politicsNews</td>\n",
       "      <td>December 31, 2017</td>\n",
       "    </tr>\n",
       "    <tr>\n",
       "      <th>1</th>\n",
       "      <td>U.S. military to accept transgender recruits o...</td>\n",
       "      <td>WASHINGTON (Reuters) - Transgender people will...</td>\n",
       "      <td>politicsNews</td>\n",
       "      <td>December 29, 2017</td>\n",
       "    </tr>\n",
       "    <tr>\n",
       "      <th>2</th>\n",
       "      <td>Senior U.S. Republican senator: 'Let Mr. Muell...</td>\n",
       "      <td>WASHINGTON (Reuters) - The special counsel inv...</td>\n",
       "      <td>politicsNews</td>\n",
       "      <td>December 31, 2017</td>\n",
       "    </tr>\n",
       "    <tr>\n",
       "      <th>3</th>\n",
       "      <td>FBI Russia probe helped by Australian diplomat...</td>\n",
       "      <td>WASHINGTON (Reuters) - Trump campaign adviser ...</td>\n",
       "      <td>politicsNews</td>\n",
       "      <td>December 30, 2017</td>\n",
       "    </tr>\n",
       "    <tr>\n",
       "      <th>4</th>\n",
       "      <td>Trump wants Postal Service to charge 'much mor...</td>\n",
       "      <td>SEATTLE/WASHINGTON (Reuters) - President Donal...</td>\n",
       "      <td>politicsNews</td>\n",
       "      <td>December 29, 2017</td>\n",
       "    </tr>\n",
       "  </tbody>\n",
       "</table>\n",
       "</div>"
      ],
      "text/plain": [
       "                                               title  \\\n",
       "0  As U.S. budget fight looms, Republicans flip t...   \n",
       "1  U.S. military to accept transgender recruits o...   \n",
       "2  Senior U.S. Republican senator: 'Let Mr. Muell...   \n",
       "3  FBI Russia probe helped by Australian diplomat...   \n",
       "4  Trump wants Postal Service to charge 'much mor...   \n",
       "\n",
       "                                                text       subject  \\\n",
       "0  WASHINGTON (Reuters) - The head of a conservat...  politicsNews   \n",
       "1  WASHINGTON (Reuters) - Transgender people will...  politicsNews   \n",
       "2  WASHINGTON (Reuters) - The special counsel inv...  politicsNews   \n",
       "3  WASHINGTON (Reuters) - Trump campaign adviser ...  politicsNews   \n",
       "4  SEATTLE/WASHINGTON (Reuters) - President Donal...  politicsNews   \n",
       "\n",
       "                 date  \n",
       "0  December 31, 2017   \n",
       "1  December 29, 2017   \n",
       "2  December 31, 2017   \n",
       "3  December 30, 2017   \n",
       "4  December 29, 2017   "
      ]
     },
     "execution_count": 12,
     "metadata": {},
     "output_type": "execute_result"
    }
   ],
   "source": [
    "df1.head()"
   ]
  },
  {
   "cell_type": "code",
   "execution_count": 13,
   "id": "bcfdbe39-bb26-49d7-9b30-cc7002ccdcb6",
   "metadata": {},
   "outputs": [
    {
     "data": {
      "text/html": [
       "<div>\n",
       "<style scoped>\n",
       "    .dataframe tbody tr th:only-of-type {\n",
       "        vertical-align: middle;\n",
       "    }\n",
       "\n",
       "    .dataframe tbody tr th {\n",
       "        vertical-align: top;\n",
       "    }\n",
       "\n",
       "    .dataframe thead th {\n",
       "        text-align: right;\n",
       "    }\n",
       "</style>\n",
       "<table border=\"1\" class=\"dataframe\">\n",
       "  <thead>\n",
       "    <tr style=\"text-align: right;\">\n",
       "      <th></th>\n",
       "      <th>title</th>\n",
       "      <th>text</th>\n",
       "      <th>subject</th>\n",
       "      <th>date</th>\n",
       "    </tr>\n",
       "  </thead>\n",
       "  <tbody>\n",
       "    <tr>\n",
       "      <th>0</th>\n",
       "      <td>Donald Trump Sends Out Embarrassing New Year’...</td>\n",
       "      <td>Donald Trump just couldn t wish all Americans ...</td>\n",
       "      <td>News</td>\n",
       "      <td>December 31, 2017</td>\n",
       "    </tr>\n",
       "    <tr>\n",
       "      <th>1</th>\n",
       "      <td>Drunk Bragging Trump Staffer Started Russian ...</td>\n",
       "      <td>House Intelligence Committee Chairman Devin Nu...</td>\n",
       "      <td>News</td>\n",
       "      <td>December 31, 2017</td>\n",
       "    </tr>\n",
       "    <tr>\n",
       "      <th>2</th>\n",
       "      <td>Sheriff David Clarke Becomes An Internet Joke...</td>\n",
       "      <td>On Friday, it was revealed that former Milwauk...</td>\n",
       "      <td>News</td>\n",
       "      <td>December 30, 2017</td>\n",
       "    </tr>\n",
       "    <tr>\n",
       "      <th>3</th>\n",
       "      <td>Trump Is So Obsessed He Even Has Obama’s Name...</td>\n",
       "      <td>On Christmas day, Donald Trump announced that ...</td>\n",
       "      <td>News</td>\n",
       "      <td>December 29, 2017</td>\n",
       "    </tr>\n",
       "    <tr>\n",
       "      <th>4</th>\n",
       "      <td>Pope Francis Just Called Out Donald Trump Dur...</td>\n",
       "      <td>Pope Francis used his annual Christmas Day mes...</td>\n",
       "      <td>News</td>\n",
       "      <td>December 25, 2017</td>\n",
       "    </tr>\n",
       "  </tbody>\n",
       "</table>\n",
       "</div>"
      ],
      "text/plain": [
       "                                               title  \\\n",
       "0   Donald Trump Sends Out Embarrassing New Year’...   \n",
       "1   Drunk Bragging Trump Staffer Started Russian ...   \n",
       "2   Sheriff David Clarke Becomes An Internet Joke...   \n",
       "3   Trump Is So Obsessed He Even Has Obama’s Name...   \n",
       "4   Pope Francis Just Called Out Donald Trump Dur...   \n",
       "\n",
       "                                                text subject  \\\n",
       "0  Donald Trump just couldn t wish all Americans ...    News   \n",
       "1  House Intelligence Committee Chairman Devin Nu...    News   \n",
       "2  On Friday, it was revealed that former Milwauk...    News   \n",
       "3  On Christmas day, Donald Trump announced that ...    News   \n",
       "4  Pope Francis used his annual Christmas Day mes...    News   \n",
       "\n",
       "                date  \n",
       "0  December 31, 2017  \n",
       "1  December 31, 2017  \n",
       "2  December 30, 2017  \n",
       "3  December 29, 2017  \n",
       "4  December 25, 2017  "
      ]
     },
     "execution_count": 13,
     "metadata": {},
     "output_type": "execute_result"
    }
   ],
   "source": [
    "df2.head()"
   ]
  },
  {
   "cell_type": "code",
   "execution_count": 14,
   "id": "d45ab638-bbad-41e6-a956-6c6071a013e8",
   "metadata": {},
   "outputs": [
    {
     "name": "stdout",
     "output_type": "stream",
     "text": [
      "title      0\n",
      "text       0\n",
      "subject    0\n",
      "date       0\n",
      "dtype: int64 \n",
      "\n",
      "title      0\n",
      "text       0\n",
      "subject    0\n",
      "date       0\n",
      "dtype: int64\n"
     ]
    }
   ],
   "source": [
    "# Checking for missing values\n",
    "print(df1.isnull().sum(),'\\n')\n",
    "print(df2.isnull().sum())"
   ]
  },
  {
   "cell_type": "code",
   "execution_count": null,
   "id": "71a5d701-7e4a-4824-b7a2-4962de20affc",
   "metadata": {},
   "outputs": [],
   "source": []
  },
  {
   "cell_type": "code",
   "execution_count": 15,
   "id": "57558213-664b-4d5d-8030-fcfd2dc609a1",
   "metadata": {},
   "outputs": [],
   "source": [
    "# first of all we need to merge both of them.\n",
    "## but we need to add a seperate column for indicating whether it belongs to real or fake news\n",
    "\n",
    "df1['fake/real'] = [1 for i in df1.index]        # df1 corressponds to true news\n",
    "df2['fake/real'] = [0 for i in df1.index]        # df2 corressponds to fake news"
   ]
  },
  {
   "cell_type": "code",
   "execution_count": 16,
   "id": "7504bfad-5807-403f-8a68-44a224154acb",
   "metadata": {},
   "outputs": [],
   "source": [
    "# Now we can concat together\n",
    "df = pd.concat([df1,df2],axis = 0,ignore_index=True)"
   ]
  },
  {
   "cell_type": "code",
   "execution_count": 17,
   "id": "1fd8051e-4863-4021-ae18-7f230c86833a",
   "metadata": {},
   "outputs": [],
   "source": [
    "# Now we are essentially shuffling the dataset\n",
    "df = df.sample(frac=1)\n",
    "df.reset_index(inplace=True,drop=True)"
   ]
  },
  {
   "cell_type": "code",
   "execution_count": 18,
   "id": "6516c651-bbc7-4eb9-b6cd-06f210de985f",
   "metadata": {},
   "outputs": [
    {
     "data": {
      "text/html": [
       "<div>\n",
       "<style scoped>\n",
       "    .dataframe tbody tr th:only-of-type {\n",
       "        vertical-align: middle;\n",
       "    }\n",
       "\n",
       "    .dataframe tbody tr th {\n",
       "        vertical-align: top;\n",
       "    }\n",
       "\n",
       "    .dataframe thead th {\n",
       "        text-align: right;\n",
       "    }\n",
       "</style>\n",
       "<table border=\"1\" class=\"dataframe\">\n",
       "  <thead>\n",
       "    <tr style=\"text-align: right;\">\n",
       "      <th></th>\n",
       "      <th>title</th>\n",
       "      <th>text</th>\n",
       "      <th>subject</th>\n",
       "      <th>date</th>\n",
       "      <th>fake/real</th>\n",
       "    </tr>\n",
       "  </thead>\n",
       "  <tbody>\n",
       "    <tr>\n",
       "      <th>0</th>\n",
       "      <td>Thanks To Capitalism, It Just Got A Lot Harde...</td>\n",
       "      <td>Just like with every presidential inauguration...</td>\n",
       "      <td>News</td>\n",
       "      <td>December 12, 2016</td>\n",
       "      <td>0</td>\n",
       "    </tr>\n",
       "    <tr>\n",
       "      <th>1</th>\n",
       "      <td>CNN’s Don Lemon: Trump Shouldn’t Get Apology ...</td>\n",
       "      <td>If Donald Trump really wants an apology from E...</td>\n",
       "      <td>News</td>\n",
       "      <td>September 18, 2017</td>\n",
       "      <td>0</td>\n",
       "    </tr>\n",
       "    <tr>\n",
       "      <th>2</th>\n",
       "      <td>On His Way Out The Door, Harry Reid Gives Big...</td>\n",
       "      <td>Assuming Hillary Clinton wins Tuesday s electi...</td>\n",
       "      <td>News</td>\n",
       "      <td>November 6, 2016</td>\n",
       "      <td>0</td>\n",
       "    </tr>\n",
       "    <tr>\n",
       "      <th>3</th>\n",
       "      <td>Meeting Israel's Netanyahu, Trump backs away f...</td>\n",
       "      <td>WASHINGTON (Reuters) - President Donald Trump ...</td>\n",
       "      <td>politicsNews</td>\n",
       "      <td>February 15, 2017</td>\n",
       "      <td>1</td>\n",
       "    </tr>\n",
       "    <tr>\n",
       "      <th>4</th>\n",
       "      <td>Colbert’s Rundown Of The ‘Harriet Tubman On T...</td>\n",
       "      <td>Stephen Colbert hit the nail right on the head...</td>\n",
       "      <td>News</td>\n",
       "      <td>April 21, 2016</td>\n",
       "      <td>0</td>\n",
       "    </tr>\n",
       "  </tbody>\n",
       "</table>\n",
       "</div>"
      ],
      "text/plain": [
       "                                               title  \\\n",
       "0   Thanks To Capitalism, It Just Got A Lot Harde...   \n",
       "1   CNN’s Don Lemon: Trump Shouldn’t Get Apology ...   \n",
       "2   On His Way Out The Door, Harry Reid Gives Big...   \n",
       "3  Meeting Israel's Netanyahu, Trump backs away f...   \n",
       "4   Colbert’s Rundown Of The ‘Harriet Tubman On T...   \n",
       "\n",
       "                                                text       subject  \\\n",
       "0  Just like with every presidential inauguration...          News   \n",
       "1  If Donald Trump really wants an apology from E...          News   \n",
       "2  Assuming Hillary Clinton wins Tuesday s electi...          News   \n",
       "3  WASHINGTON (Reuters) - President Donald Trump ...  politicsNews   \n",
       "4  Stephen Colbert hit the nail right on the head...          News   \n",
       "\n",
       "                 date  fake/real  \n",
       "0   December 12, 2016          0  \n",
       "1  September 18, 2017          0  \n",
       "2    November 6, 2016          0  \n",
       "3  February 15, 2017           1  \n",
       "4      April 21, 2016          0  "
      ]
     },
     "execution_count": 18,
     "metadata": {},
     "output_type": "execute_result"
    }
   ],
   "source": [
    "df.head()"
   ]
  },
  {
   "cell_type": "code",
   "execution_count": 76,
   "id": "8ef57011-915c-4870-a6df-09df8dcceb39",
   "metadata": {},
   "outputs": [
    {
     "name": "stdout",
     "output_type": "stream",
     "text": [
      "2\n",
      "19889\n"
     ]
    }
   ],
   "source": [
    "# looking if our above operation works well\n",
    "print(df['fake/real'] .nunique())\n",
    "print(df['title'] .nunique())"
   ]
  },
  {
   "cell_type": "raw",
   "id": "e1698549-55c4-46fb-b096-cf5c9e79773e",
   "metadata": {},
   "source": [
    "We need not to worry about imbalance as we concat equal no. of fake and real news inatances"
   ]
  },
  {
   "cell_type": "markdown",
   "id": "28ee6f60-6f0c-4472-ba2d-da10953cc446",
   "metadata": {},
   "source": [
    "# Data pre-processing"
   ]
  },
  {
   "cell_type": "code",
   "execution_count": 19,
   "id": "bc454f1a-56a0-44c8-8d63-b57afd20213b",
   "metadata": {},
   "outputs": [],
   "source": [
    " # step 1. Converting text into int or vector format\n",
    "         # removing punctuations and stopwords using nltk lib.\n",
    "         # stemming or lemmatization"
   ]
  },
  {
   "cell_type": "code",
   "execution_count": 20,
   "id": "cd787203-15fa-4efc-8787-c1e7e0ed51ec",
   "metadata": {},
   "outputs": [],
   "source": [
    "# declaring dependent and independent variables here only, as it will be easier to work on it then\n",
    "X = df['title']                     # Although we can include text column also but for now we use title column \n",
    "y = df['fake/real']                  "
   ]
  },
  {
   "cell_type": "code",
   "execution_count": 21,
   "id": "474adac6-8802-4e28-a63a-3b0dae2b7762",
   "metadata": {},
   "outputs": [],
   "source": [
    "# importing nltk and other req. libraries for preprocessing\n",
    "import nltk\n",
    "from nltk.corpus import stopwords\n",
    "\n",
    "##### for regex\n",
    "import re                              \n",
    "\n",
    "from nltk.stem import PorterStemmer        ###### for stemming words\n",
    "p_stem = PorterStemmer()\n",
    "\n",
    "######stop_words in english\n",
    "stop_words = stopwords.words('english')"
   ]
  },
  {
   "cell_type": "code",
   "execution_count": 22,
   "id": "8067af63-e8d5-4c85-9272-393cdde447a8",
   "metadata": {},
   "outputs": [
    {
     "data": {
      "text/plain": [
       "0    thank to capit it just got a lot harder for tr...\n",
       "1    cnn don lemon trump shouldn get apolog from es...\n",
       "2    on hi way out the door harri reid give big f c...\n",
       "3    meet israel netanyahu trump back away commit p...\n",
       "4    colbert rundown of the harriet tubman on the n...\n",
       "Name: title, dtype: object"
      ]
     },
     "execution_count": 22,
     "metadata": {},
     "output_type": "execute_result"
    }
   ],
   "source": [
    "# step1.\n",
    "def text_preprocessing(sent):\n",
    "    \n",
    "    new_sent = re.sub('[^A-Za-z]',\" \",sent).strip()\n",
    "    new_sent.lower()\n",
    "    words = new_sent.split()\n",
    "    \n",
    "    process_words = [p_stem.stem(word) for word in words if word not in stop_words]\n",
    "    processed_sentence = \" \".join(process_words)\n",
    "    return processed_sentence\n",
    "### applying it on X (independent variable)    \n",
    "X = df['title'].apply(text_preprocessing)   \n",
    "X.head()"
   ]
  },
  {
   "cell_type": "code",
   "execution_count": null,
   "id": "fbcddee3-07a5-4f67-8cde-f26f51276e8d",
   "metadata": {},
   "outputs": [],
   "source": []
  },
  {
   "cell_type": "code",
   "execution_count": 23,
   "id": "1788ffdb-2229-43ef-b5ba-6c91f7269280",
   "metadata": {},
   "outputs": [],
   "source": [
    "# step 2. Tokenization using One hot encoding \n",
    "# step 3. padding as per the requirement\n",
    "from tensorflow.keras.preprocessing.text import one_hot\n",
    "vocab_size = 5000\n",
    "X_onehot_repr = [one_hot(sentence,n=vocab_size) for sentence in X]"
   ]
  },
  {
   "cell_type": "code",
   "execution_count": 24,
   "id": "7adbc91a-3f78-49fe-b3bc-65f73b24dac9",
   "metadata": {},
   "outputs": [],
   "source": [
    "# padding the one hot rep.\n",
    "from tensorflow.keras.preprocessing.sequence import pad_sequences\n",
    "embedded_docs = pad_sequences(X_onehot_repr, padding = 'post')"
   ]
  },
  {
   "cell_type": "code",
   "execution_count": 25,
   "id": "e48f7242-b91d-4166-b350-d3995ec935e2",
   "metadata": {},
   "outputs": [
    {
     "name": "stdout",
     "output_type": "stream",
     "text": [
      "36\n",
      "36\n"
     ]
    }
   ],
   "source": [
    "print(len(embedded_docs[0]))\n",
    "print(len(embedded_docs[7]))"
   ]
  },
  {
   "cell_type": "code",
   "execution_count": 26,
   "id": "5d80c95d-09a1-4eb7-bdf8-ed249fb4fb8c",
   "metadata": {},
   "outputs": [],
   "source": [
    "# we now prepare our final feature set and target set\n",
    "X_final = np.array(embedded_docs)\n",
    "y_final = np.array(y)"
   ]
  },
  {
   "cell_type": "code",
   "execution_count": 27,
   "id": "3c6d75b0-c632-4ba0-9508-76253c60c619",
   "metadata": {},
   "outputs": [
    {
     "data": {
      "text/plain": [
       "((20000, 36), (20000,))"
      ]
     },
     "execution_count": 27,
     "metadata": {},
     "output_type": "execute_result"
    }
   ],
   "source": [
    "X_final.shape, y_final.shape"
   ]
  },
  {
   "cell_type": "markdown",
   "id": "ca8a92d5-cdfe-4408-b043-9c6d36136512",
   "metadata": {},
   "source": [
    "## Model training"
   ]
  },
  {
   "cell_type": "code",
   "execution_count": 28,
   "id": "a4f3bde3-d694-4c05-be92-16e241a2ca63",
   "metadata": {},
   "outputs": [],
   "source": [
    "# train test split\n",
    "from sklearn.model_selection import train_test_split\n",
    "X_train, X_test, y_train, y_test = train_test_split(X_final, y_final, test_size = 0.35, random_state = 42)\n"
   ]
  },
  {
   "cell_type": "code",
   "execution_count": 29,
   "id": "ab26d2c9-ca40-4695-8aba-13eb2c96159a",
   "metadata": {},
   "outputs": [
    {
     "data": {
      "text/plain": [
       "((13000, 36), (7000, 36), (13000,), (7000,))"
      ]
     },
     "execution_count": 29,
     "metadata": {},
     "output_type": "execute_result"
    }
   ],
   "source": [
    "X_train.shape, X_test.shape, y_train.shape, y_test.shape"
   ]
  },
  {
   "cell_type": "code",
   "execution_count": 30,
   "id": "65bd2f02-9775-4f76-97ae-115e14bb76b4",
   "metadata": {},
   "outputs": [],
   "source": [
    "# importing req. libraries from TensorFlow\n",
    "from tensorflow import keras\n",
    "from keras.layers import LSTM,Embedding,Dense\n",
    "from keras.models import Sequential"
   ]
  },
  {
   "cell_type": "code",
   "execution_count": 34,
   "id": "47368131-5d46-44f1-b7e1-a3e10831df05",
   "metadata": {},
   "outputs": [
    {
     "name": "stdout",
     "output_type": "stream",
     "text": [
      "Model: \"sequential_1\"\n",
      "_________________________________________________________________\n",
      " Layer (type)                Output Shape              Param #   \n",
      "=================================================================\n",
      " embedding_1 (Embedding)     (None, 36, 50)            250000    \n",
      "                                                                 \n",
      " lstm_1 (LSTM)               (None, 100)               60400     \n",
      "                                                                 \n",
      " dense_1 (Dense)             (None, 1)                 101       \n",
      "                                                                 \n",
      "=================================================================\n",
      "Total params: 310,501\n",
      "Trainable params: 310,501\n",
      "Non-trainable params: 0\n",
      "_________________________________________________________________\n"
     ]
    }
   ],
   "source": [
    "# Model Architecture\n",
    "model = Sequential()\n",
    "model.add(Embedding(input_dim = vocab_size,output_dim=50,input_length=36))\n",
    "model.add(LSTM(100))\n",
    "model.add(Dense(1, activation = 'sigmoid'))\n",
    "model.summary()"
   ]
  },
  {
   "cell_type": "code",
   "execution_count": 35,
   "id": "b9cf39cd-1e83-48c8-9cd7-638cb907b050",
   "metadata": {},
   "outputs": [],
   "source": [
    "# model compile\n",
    "model.compile(metrics = ['acc'], optimizer = 'adam', loss = 'binary_crossentropy')"
   ]
  },
  {
   "cell_type": "code",
   "execution_count": 36,
   "id": "2dc49cd3-62d8-4c2a-b08c-4456fb09088e",
   "metadata": {},
   "outputs": [
    {
     "name": "stdout",
     "output_type": "stream",
     "text": [
      "Epoch 1/5\n",
      "407/407 [==============================] - 28s 54ms/step - loss: 0.1277 - acc: 0.9459 - val_loss: 0.0430 - val_acc: 0.9854\n",
      "Epoch 2/5\n",
      "407/407 [==============================] - 15s 36ms/step - loss: 0.0271 - acc: 0.9925 - val_loss: 0.0564 - val_acc: 0.9800\n",
      "Epoch 3/5\n",
      "407/407 [==============================] - 14s 35ms/step - loss: 0.0143 - acc: 0.9958 - val_loss: 0.0618 - val_acc: 0.9840\n",
      "Epoch 4/5\n",
      "407/407 [==============================] - 14s 34ms/step - loss: 0.0161 - acc: 0.9958 - val_loss: 0.0537 - val_acc: 0.9833\n",
      "Epoch 5/5\n",
      "407/407 [==============================] - 18s 45ms/step - loss: 0.0065 - acc: 0.9986 - val_loss: 0.1238 - val_acc: 0.9807\n"
     ]
    },
    {
     "data": {
      "text/plain": [
       "<keras.callbacks.History at 0x1d596306500>"
      ]
     },
     "execution_count": 36,
     "metadata": {},
     "output_type": "execute_result"
    }
   ],
   "source": [
    "# model fitting\n",
    "model.fit(X_train, y_train, epochs = 5, validation_data = (X_test, y_test))"
   ]
  },
  {
   "cell_type": "code",
   "execution_count": 37,
   "id": "ec2af6fe-8626-48ca-ab4f-86966f67c6cd",
   "metadata": {},
   "outputs": [
    {
     "name": "stdout",
     "output_type": "stream",
     "text": [
      "219/219 [==============================] - 5s 15ms/step\n"
     ]
    }
   ],
   "source": [
    "# now we will predict for our test data , Remember it will give probablities only.\n",
    "y_pred = model.predict(X_test)\n"
   ]
  },
  {
   "cell_type": "code",
   "execution_count": 59,
   "id": "e422d78c-9fa7-4735-8b52-9c21dc2b7284",
   "metadata": {},
   "outputs": [
    {
     "data": {
      "text/plain": [
       "array([0.00016573], dtype=float32)"
      ]
     },
     "execution_count": 59,
     "metadata": {},
     "output_type": "execute_result"
    }
   ],
   "source": [
    "y_pred[0]"
   ]
  },
  {
   "cell_type": "code",
   "execution_count": 77,
   "id": "9085dd86-9930-4bde-bb3e-ba754a453c7a",
   "metadata": {},
   "outputs": [],
   "source": [
    "# Converting probablities into meaningful result so that we can compare with the actual values.\n",
    "predictions = []\n",
    "for i in y_pred:\n",
    "    if i <0.5 :\n",
    "        predictions.append(0)\n",
    "    else:\n",
    "        predictions.append(1)\n",
    "        \n",
    "        \n",
    "y_predicted = np.array(predictions)              # converting this into an array"
   ]
  },
  {
   "cell_type": "markdown",
   "id": "7111bae4-07d3-4c6d-abc8-5930dfdc230b",
   "metadata": {},
   "source": [
    "### Model Evaluation"
   ]
  },
  {
   "cell_type": "code",
   "execution_count": 71,
   "id": "f6157870-af51-4724-ab1f-425d7f0c7a5b",
   "metadata": {},
   "outputs": [
    {
     "name": "stdout",
     "output_type": "stream",
     "text": [
      "              precision    recall  f1-score   support\n",
      "\n",
      "           0       0.98      0.99      0.98      3481\n",
      "           1       0.99      0.98      0.98      3519\n",
      "\n",
      "    accuracy                           0.98      7000\n",
      "   macro avg       0.98      0.98      0.98      7000\n",
      "weighted avg       0.98      0.98      0.98      7000\n",
      "\n"
     ]
    }
   ],
   "source": [
    "# now we can find out accuracy and other evaluation metrices\n",
    "from sklearn.metrics import classification_report,accuracy_score\n",
    "print(classification_report(y_test,y_predicted))"
   ]
  },
  {
   "cell_type": "code",
   "execution_count": null,
   "id": "4e5844e3-d2fb-4e3c-82ca-b63c4b5acac4",
   "metadata": {},
   "outputs": [],
   "source": []
  }
 ],
 "metadata": {
  "kernelspec": {
   "display_name": "Python 3 (ipykernel)",
   "language": "python",
   "name": "python3"
  },
  "language_info": {
   "codemirror_mode": {
    "name": "ipython",
    "version": 3
   },
   "file_extension": ".py",
   "mimetype": "text/x-python",
   "name": "python",
   "nbconvert_exporter": "python",
   "pygments_lexer": "ipython3",
   "version": "3.10.13"
  }
 },
 "nbformat": 4,
 "nbformat_minor": 5
}
